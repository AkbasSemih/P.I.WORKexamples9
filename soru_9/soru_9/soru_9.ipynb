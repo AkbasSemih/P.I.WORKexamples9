{
 "cells": [
  {
   "cell_type": "code",
   "execution_count": 1,
   "metadata": {},
   "outputs": [
    {
     "name": "stdout",
     "output_type": "stream",
     "text": [
      "  Device_Type                            Stats_Access_Link  \\\n",
      "0      AXO145  <url>https://xcd32112.smart_meter.com</url>   \n",
      "1      TRU151        <url>http://txh67.dia_meter.com</url>   \n",
      "2      ZOD231     <url>http://yt5495.smart_meter.com</url>   \n",
      "3      YRT326      <url>https://ret323_TRu.crown.com</url>   \n",
      "4      LWR245      <url>https://luwr3243.celcius.com</url>   \n",
      "\n",
      "              Extracted_URL  \n",
      "0  xcd32112.smart_meter.com  \n",
      "1       txh67.dia_meter.com  \n",
      "2    yt5495.smart_meter.com  \n",
      "3      ret323_TRu.crown.com  \n",
      "4      luwr3243.celcius.com  \n"
     ]
    }
   ],
   "source": [
    "import pandas as pd\n",
    "import re\n",
    "\n",
    "data = {\n",
    "    'Device_Type': ['AXO145', 'TRU151', 'ZOD231', 'YRT326', 'LWR245'],\n",
    "    'Stats_Access_Link': [\n",
    "        '<url>https://xcd32112.smart_meter.com</url>',\n",
    "        '<url>http://txh67.dia_meter.com</url>',\n",
    "        '<url>http://yt5495.smart_meter.com</url>',\n",
    "        '<url>https://ret323_TRu.crown.com</url>',\n",
    "        '<url>https://luwr3243.celcius.com</url>'\n",
    "    ]\n",
    "}\n",
    "\n",
    "df = pd.DataFrame(data)\n",
    "\n",
    "def extract_url(access_link):\n",
    "    match = re.search(r'<url>https?://([\\w_.]+)</url>', access_link)\n",
    "    return match.group(1) if match else None\n",
    "\n",
    "df['Extracted_URL'] = df['Stats_Access_Link'].apply(extract_url)\n",
    "\n",
    "\n",
    "print(df)\n"
   ]
  }
 ],
 "metadata": {
  "kernelspec": {
   "display_name": "Python 3",
   "language": "python",
   "name": "python3"
  },
  "language_info": {
   "codemirror_mode": {
    "name": "ipython",
    "version": 3
   },
   "file_extension": ".py",
   "mimetype": "text/x-python",
   "name": "python",
   "nbconvert_exporter": "python",
   "pygments_lexer": "ipython3",
   "version": "3.11.4"
  }
 },
 "nbformat": 4,
 "nbformat_minor": 2
}
